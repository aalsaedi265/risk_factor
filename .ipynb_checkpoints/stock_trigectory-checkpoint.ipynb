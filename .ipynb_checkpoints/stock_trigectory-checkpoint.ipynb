{
 "cells": [
  {
   "cell_type": "code",
   "execution_count": null,
   "id": "b9c2bddc-46c2-47b0-a5a4-cdb8db60ad45",
   "metadata": {},
   "outputs": [],
   "source": [
    "import pandas_datareader"
   ]
  }
 ],
 "metadata": {
  "kernelspec": {
   "display_name": "",
   "name": ""
  },
  "language_info": {
   "name": ""
  }
 },
 "nbformat": 4,
 "nbformat_minor": 5
}
